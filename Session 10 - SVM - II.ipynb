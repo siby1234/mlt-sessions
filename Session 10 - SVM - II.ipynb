{
 "cells": [
  {
   "cell_type": "markdown",
   "id": "3160aa41",
   "metadata": {},
   "source": [
    "# Implementation of SVC"
   ]
  },
  {
   "cell_type": "markdown",
   "id": "68ad7e12",
   "metadata": {},
   "source": [
    "## Accessing the data"
   ]
  },
  {
   "cell_type": "code",
   "execution_count": 1,
   "id": "b499e814",
   "metadata": {},
   "outputs": [],
   "source": [
    "import numpy as np\n",
    "import pandas as pd\n",
    "import matplotlib.pyplot as plt\n",
    "import seaborn as sns"
   ]
  },
  {
   "cell_type": "code",
   "execution_count": 2,
   "id": "bab571a6",
   "metadata": {},
   "outputs": [],
   "source": [
    "db=pd.read_csv('diabetes.csv')"
   ]
  },
  {
   "cell_type": "code",
   "execution_count": 3,
   "id": "71ae7024",
   "metadata": {},
   "outputs": [
    {
     "data": {
      "text/html": [
       "<div>\n",
       "<style scoped>\n",
       "    .dataframe tbody tr th:only-of-type {\n",
       "        vertical-align: middle;\n",
       "    }\n",
       "\n",
       "    .dataframe tbody tr th {\n",
       "        vertical-align: top;\n",
       "    }\n",
       "\n",
       "    .dataframe thead th {\n",
       "        text-align: right;\n",
       "    }\n",
       "</style>\n",
       "<table border=\"1\" class=\"dataframe\">\n",
       "  <thead>\n",
       "    <tr style=\"text-align: right;\">\n",
       "      <th></th>\n",
       "      <th>Pregnancies</th>\n",
       "      <th>Glucose</th>\n",
       "      <th>BloodPressure</th>\n",
       "      <th>SkinThickness</th>\n",
       "      <th>Insulin</th>\n",
       "      <th>BMI</th>\n",
       "      <th>DiabetesPedigreeFunction</th>\n",
       "      <th>Age</th>\n",
       "      <th>Outcome</th>\n",
       "    </tr>\n",
       "  </thead>\n",
       "  <tbody>\n",
       "    <tr>\n",
       "      <th>0</th>\n",
       "      <td>6</td>\n",
       "      <td>148</td>\n",
       "      <td>72</td>\n",
       "      <td>35</td>\n",
       "      <td>0</td>\n",
       "      <td>33.6</td>\n",
       "      <td>0.627</td>\n",
       "      <td>50</td>\n",
       "      <td>1</td>\n",
       "    </tr>\n",
       "    <tr>\n",
       "      <th>1</th>\n",
       "      <td>1</td>\n",
       "      <td>85</td>\n",
       "      <td>66</td>\n",
       "      <td>29</td>\n",
       "      <td>0</td>\n",
       "      <td>26.6</td>\n",
       "      <td>0.351</td>\n",
       "      <td>31</td>\n",
       "      <td>0</td>\n",
       "    </tr>\n",
       "    <tr>\n",
       "      <th>2</th>\n",
       "      <td>8</td>\n",
       "      <td>183</td>\n",
       "      <td>64</td>\n",
       "      <td>0</td>\n",
       "      <td>0</td>\n",
       "      <td>23.3</td>\n",
       "      <td>0.672</td>\n",
       "      <td>32</td>\n",
       "      <td>1</td>\n",
       "    </tr>\n",
       "    <tr>\n",
       "      <th>3</th>\n",
       "      <td>1</td>\n",
       "      <td>89</td>\n",
       "      <td>66</td>\n",
       "      <td>23</td>\n",
       "      <td>94</td>\n",
       "      <td>28.1</td>\n",
       "      <td>0.167</td>\n",
       "      <td>21</td>\n",
       "      <td>0</td>\n",
       "    </tr>\n",
       "    <tr>\n",
       "      <th>4</th>\n",
       "      <td>0</td>\n",
       "      <td>137</td>\n",
       "      <td>40</td>\n",
       "      <td>35</td>\n",
       "      <td>168</td>\n",
       "      <td>43.1</td>\n",
       "      <td>2.288</td>\n",
       "      <td>33</td>\n",
       "      <td>1</td>\n",
       "    </tr>\n",
       "  </tbody>\n",
       "</table>\n",
       "</div>"
      ],
      "text/plain": [
       "   Pregnancies  Glucose  BloodPressure  SkinThickness  Insulin   BMI  \\\n",
       "0            6      148             72             35        0  33.6   \n",
       "1            1       85             66             29        0  26.6   \n",
       "2            8      183             64              0        0  23.3   \n",
       "3            1       89             66             23       94  28.1   \n",
       "4            0      137             40             35      168  43.1   \n",
       "\n",
       "   DiabetesPedigreeFunction  Age  Outcome  \n",
       "0                     0.627   50        1  \n",
       "1                     0.351   31        0  \n",
       "2                     0.672   32        1  \n",
       "3                     0.167   21        0  \n",
       "4                     2.288   33        1  "
      ]
     },
     "execution_count": 3,
     "metadata": {},
     "output_type": "execute_result"
    }
   ],
   "source": [
    "db.head()"
   ]
  },
  {
   "cell_type": "code",
   "execution_count": 4,
   "id": "49fc94b1",
   "metadata": {},
   "outputs": [
    {
     "data": {
      "text/plain": [
       "(768, 9)"
      ]
     },
     "execution_count": 4,
     "metadata": {},
     "output_type": "execute_result"
    }
   ],
   "source": [
    "db.shape"
   ]
  },
  {
   "cell_type": "markdown",
   "id": "61dc3013",
   "metadata": {},
   "source": [
    "## Preprocessing of the data"
   ]
  },
  {
   "cell_type": "code",
   "execution_count": 5,
   "id": "7667b790",
   "metadata": {},
   "outputs": [],
   "source": [
    "y=db['Outcome']"
   ]
  },
  {
   "cell_type": "code",
   "execution_count": 6,
   "id": "a49e3259",
   "metadata": {},
   "outputs": [
    {
     "data": {
      "text/plain": [
       "0      1\n",
       "1      0\n",
       "2      1\n",
       "3      0\n",
       "4      1\n",
       "      ..\n",
       "763    0\n",
       "764    0\n",
       "765    0\n",
       "766    1\n",
       "767    0\n",
       "Name: Outcome, Length: 768, dtype: int64"
      ]
     },
     "execution_count": 6,
     "metadata": {},
     "output_type": "execute_result"
    }
   ],
   "source": [
    "y"
   ]
  },
  {
   "cell_type": "code",
   "execution_count": 7,
   "id": "a4aca0cf",
   "metadata": {},
   "outputs": [
    {
     "data": {
      "text/plain": [
       "0    500\n",
       "1    268\n",
       "Name: Outcome, dtype: int64"
      ]
     },
     "execution_count": 7,
     "metadata": {},
     "output_type": "execute_result"
    }
   ],
   "source": [
    "y.value_counts()"
   ]
  },
  {
   "cell_type": "code",
   "execution_count": 8,
   "id": "93c205b3",
   "metadata": {},
   "outputs": [],
   "source": [
    "X=db.drop(['Outcome'],axis=1)"
   ]
  },
  {
   "cell_type": "code",
   "execution_count": 9,
   "id": "973d4418",
   "metadata": {},
   "outputs": [
    {
     "data": {
      "text/html": [
       "<div>\n",
       "<style scoped>\n",
       "    .dataframe tbody tr th:only-of-type {\n",
       "        vertical-align: middle;\n",
       "    }\n",
       "\n",
       "    .dataframe tbody tr th {\n",
       "        vertical-align: top;\n",
       "    }\n",
       "\n",
       "    .dataframe thead th {\n",
       "        text-align: right;\n",
       "    }\n",
       "</style>\n",
       "<table border=\"1\" class=\"dataframe\">\n",
       "  <thead>\n",
       "    <tr style=\"text-align: right;\">\n",
       "      <th></th>\n",
       "      <th>Pregnancies</th>\n",
       "      <th>Glucose</th>\n",
       "      <th>BloodPressure</th>\n",
       "      <th>SkinThickness</th>\n",
       "      <th>Insulin</th>\n",
       "      <th>BMI</th>\n",
       "      <th>DiabetesPedigreeFunction</th>\n",
       "      <th>Age</th>\n",
       "    </tr>\n",
       "  </thead>\n",
       "  <tbody>\n",
       "    <tr>\n",
       "      <th>0</th>\n",
       "      <td>6</td>\n",
       "      <td>148</td>\n",
       "      <td>72</td>\n",
       "      <td>35</td>\n",
       "      <td>0</td>\n",
       "      <td>33.6</td>\n",
       "      <td>0.627</td>\n",
       "      <td>50</td>\n",
       "    </tr>\n",
       "    <tr>\n",
       "      <th>1</th>\n",
       "      <td>1</td>\n",
       "      <td>85</td>\n",
       "      <td>66</td>\n",
       "      <td>29</td>\n",
       "      <td>0</td>\n",
       "      <td>26.6</td>\n",
       "      <td>0.351</td>\n",
       "      <td>31</td>\n",
       "    </tr>\n",
       "    <tr>\n",
       "      <th>2</th>\n",
       "      <td>8</td>\n",
       "      <td>183</td>\n",
       "      <td>64</td>\n",
       "      <td>0</td>\n",
       "      <td>0</td>\n",
       "      <td>23.3</td>\n",
       "      <td>0.672</td>\n",
       "      <td>32</td>\n",
       "    </tr>\n",
       "    <tr>\n",
       "      <th>3</th>\n",
       "      <td>1</td>\n",
       "      <td>89</td>\n",
       "      <td>66</td>\n",
       "      <td>23</td>\n",
       "      <td>94</td>\n",
       "      <td>28.1</td>\n",
       "      <td>0.167</td>\n",
       "      <td>21</td>\n",
       "    </tr>\n",
       "    <tr>\n",
       "      <th>4</th>\n",
       "      <td>0</td>\n",
       "      <td>137</td>\n",
       "      <td>40</td>\n",
       "      <td>35</td>\n",
       "      <td>168</td>\n",
       "      <td>43.1</td>\n",
       "      <td>2.288</td>\n",
       "      <td>33</td>\n",
       "    </tr>\n",
       "  </tbody>\n",
       "</table>\n",
       "</div>"
      ],
      "text/plain": [
       "   Pregnancies  Glucose  BloodPressure  SkinThickness  Insulin   BMI  \\\n",
       "0            6      148             72             35        0  33.6   \n",
       "1            1       85             66             29        0  26.6   \n",
       "2            8      183             64              0        0  23.3   \n",
       "3            1       89             66             23       94  28.1   \n",
       "4            0      137             40             35      168  43.1   \n",
       "\n",
       "   DiabetesPedigreeFunction  Age  \n",
       "0                     0.627   50  \n",
       "1                     0.351   31  \n",
       "2                     0.672   32  \n",
       "3                     0.167   21  \n",
       "4                     2.288   33  "
      ]
     },
     "execution_count": 9,
     "metadata": {},
     "output_type": "execute_result"
    }
   ],
   "source": [
    "X.head()"
   ]
  },
  {
   "cell_type": "code",
   "execution_count": 10,
   "id": "08e957b7",
   "metadata": {},
   "outputs": [
    {
     "data": {
      "text/html": [
       "<div>\n",
       "<style scoped>\n",
       "    .dataframe tbody tr th:only-of-type {\n",
       "        vertical-align: middle;\n",
       "    }\n",
       "\n",
       "    .dataframe tbody tr th {\n",
       "        vertical-align: top;\n",
       "    }\n",
       "\n",
       "    .dataframe thead th {\n",
       "        text-align: right;\n",
       "    }\n",
       "</style>\n",
       "<table border=\"1\" class=\"dataframe\">\n",
       "  <thead>\n",
       "    <tr style=\"text-align: right;\">\n",
       "      <th></th>\n",
       "      <th>Pregnancies</th>\n",
       "      <th>Glucose</th>\n",
       "      <th>BloodPressure</th>\n",
       "      <th>SkinThickness</th>\n",
       "      <th>Insulin</th>\n",
       "      <th>BMI</th>\n",
       "      <th>DiabetesPedigreeFunction</th>\n",
       "      <th>Age</th>\n",
       "    </tr>\n",
       "  </thead>\n",
       "  <tbody>\n",
       "    <tr>\n",
       "      <th>count</th>\n",
       "      <td>768.000000</td>\n",
       "      <td>768.000000</td>\n",
       "      <td>768.000000</td>\n",
       "      <td>768.000000</td>\n",
       "      <td>768.000000</td>\n",
       "      <td>768.000000</td>\n",
       "      <td>768.000000</td>\n",
       "      <td>768.000000</td>\n",
       "    </tr>\n",
       "    <tr>\n",
       "      <th>mean</th>\n",
       "      <td>3.845052</td>\n",
       "      <td>120.894531</td>\n",
       "      <td>69.105469</td>\n",
       "      <td>20.536458</td>\n",
       "      <td>79.799479</td>\n",
       "      <td>31.992578</td>\n",
       "      <td>0.471876</td>\n",
       "      <td>33.240885</td>\n",
       "    </tr>\n",
       "    <tr>\n",
       "      <th>std</th>\n",
       "      <td>3.369578</td>\n",
       "      <td>31.972618</td>\n",
       "      <td>19.355807</td>\n",
       "      <td>15.952218</td>\n",
       "      <td>115.244002</td>\n",
       "      <td>7.884160</td>\n",
       "      <td>0.331329</td>\n",
       "      <td>11.760232</td>\n",
       "    </tr>\n",
       "    <tr>\n",
       "      <th>min</th>\n",
       "      <td>0.000000</td>\n",
       "      <td>0.000000</td>\n",
       "      <td>0.000000</td>\n",
       "      <td>0.000000</td>\n",
       "      <td>0.000000</td>\n",
       "      <td>0.000000</td>\n",
       "      <td>0.078000</td>\n",
       "      <td>21.000000</td>\n",
       "    </tr>\n",
       "    <tr>\n",
       "      <th>25%</th>\n",
       "      <td>1.000000</td>\n",
       "      <td>99.000000</td>\n",
       "      <td>62.000000</td>\n",
       "      <td>0.000000</td>\n",
       "      <td>0.000000</td>\n",
       "      <td>27.300000</td>\n",
       "      <td>0.243750</td>\n",
       "      <td>24.000000</td>\n",
       "    </tr>\n",
       "    <tr>\n",
       "      <th>50%</th>\n",
       "      <td>3.000000</td>\n",
       "      <td>117.000000</td>\n",
       "      <td>72.000000</td>\n",
       "      <td>23.000000</td>\n",
       "      <td>30.500000</td>\n",
       "      <td>32.000000</td>\n",
       "      <td>0.372500</td>\n",
       "      <td>29.000000</td>\n",
       "    </tr>\n",
       "    <tr>\n",
       "      <th>75%</th>\n",
       "      <td>6.000000</td>\n",
       "      <td>140.250000</td>\n",
       "      <td>80.000000</td>\n",
       "      <td>32.000000</td>\n",
       "      <td>127.250000</td>\n",
       "      <td>36.600000</td>\n",
       "      <td>0.626250</td>\n",
       "      <td>41.000000</td>\n",
       "    </tr>\n",
       "    <tr>\n",
       "      <th>max</th>\n",
       "      <td>17.000000</td>\n",
       "      <td>199.000000</td>\n",
       "      <td>122.000000</td>\n",
       "      <td>99.000000</td>\n",
       "      <td>846.000000</td>\n",
       "      <td>67.100000</td>\n",
       "      <td>2.420000</td>\n",
       "      <td>81.000000</td>\n",
       "    </tr>\n",
       "  </tbody>\n",
       "</table>\n",
       "</div>"
      ],
      "text/plain": [
       "       Pregnancies     Glucose  BloodPressure  SkinThickness     Insulin  \\\n",
       "count   768.000000  768.000000     768.000000     768.000000  768.000000   \n",
       "mean      3.845052  120.894531      69.105469      20.536458   79.799479   \n",
       "std       3.369578   31.972618      19.355807      15.952218  115.244002   \n",
       "min       0.000000    0.000000       0.000000       0.000000    0.000000   \n",
       "25%       1.000000   99.000000      62.000000       0.000000    0.000000   \n",
       "50%       3.000000  117.000000      72.000000      23.000000   30.500000   \n",
       "75%       6.000000  140.250000      80.000000      32.000000  127.250000   \n",
       "max      17.000000  199.000000     122.000000      99.000000  846.000000   \n",
       "\n",
       "              BMI  DiabetesPedigreeFunction         Age  \n",
       "count  768.000000                768.000000  768.000000  \n",
       "mean    31.992578                  0.471876   33.240885  \n",
       "std      7.884160                  0.331329   11.760232  \n",
       "min      0.000000                  0.078000   21.000000  \n",
       "25%     27.300000                  0.243750   24.000000  \n",
       "50%     32.000000                  0.372500   29.000000  \n",
       "75%     36.600000                  0.626250   41.000000  \n",
       "max     67.100000                  2.420000   81.000000  "
      ]
     },
     "execution_count": 10,
     "metadata": {},
     "output_type": "execute_result"
    }
   ],
   "source": [
    "X.describe()"
   ]
  },
  {
   "cell_type": "markdown",
   "id": "f3f57e0a",
   "metadata": {},
   "source": [
    "## Splitting into: train and test"
   ]
  },
  {
   "cell_type": "code",
   "execution_count": 11,
   "id": "cd810c03",
   "metadata": {},
   "outputs": [
    {
     "data": {
      "text/plain": [
       "((614, 8), (154, 8), (614,), (154,))"
      ]
     },
     "execution_count": 11,
     "metadata": {},
     "output_type": "execute_result"
    }
   ],
   "source": [
    "from sklearn.model_selection import train_test_split\n",
    "\n",
    "X_train,X_test,y_train,y_test=train_test_split(X,y,test_size=0.2,random_state=10)\n",
    "X_train.shape,X_test.shape,y_train.shape,y_test.shape"
   ]
  },
  {
   "cell_type": "markdown",
   "id": "fb9f53ea",
   "metadata": {},
   "source": [
    "## Building the model"
   ]
  },
  {
   "cell_type": "code",
   "execution_count": 16,
   "id": "d1229075",
   "metadata": {},
   "outputs": [
    {
     "data": {
      "text/plain": [
       "array([1, 0, 0, 0, 0, 0, 0, 0, 0, 0, 0, 0, 1, 0, 0, 1, 1, 0, 0, 1, 0, 0,\n",
       "       0, 0, 0, 1, 0, 0, 1, 1, 0, 0, 0, 0, 0, 0, 0, 0, 1, 0, 0, 0, 0, 0,\n",
       "       0, 0, 0, 0, 0, 0, 0, 1, 0, 0, 0, 0, 0, 0, 0, 0, 0, 0, 0, 0, 0, 0,\n",
       "       1, 0, 0, 1, 1, 0, 1, 1, 0, 0, 1, 1, 0, 0, 0, 1, 0, 0, 0, 1, 0, 0,\n",
       "       1, 0, 0, 0, 0, 0, 0, 0, 1, 0, 0, 0, 1, 0, 1, 0, 0, 0, 1, 1, 0, 1,\n",
       "       0, 1, 0, 0, 0, 0, 0, 0, 0, 1, 0, 0, 0, 1, 0, 0, 0, 0, 0, 0, 1, 0,\n",
       "       1, 0, 0, 0, 0, 1, 1, 1, 0, 0, 0, 0, 1, 0, 0, 1, 1, 0, 0, 0, 1, 0])"
      ]
     },
     "execution_count": 16,
     "metadata": {},
     "output_type": "execute_result"
    }
   ],
   "source": [
    "from sklearn.svm import SVC\n",
    "svc_lin=SVC(kernel='linear',probability=True)\n",
    "svc_lin=svc_lin.fit(X_train,y_train)\n",
    "\n",
    "y_pred=svc_lin.predict(X_test)\n",
    "y_pred"
   ]
  },
  {
   "cell_type": "code",
   "execution_count": 13,
   "id": "dfaa46f6",
   "metadata": {},
   "outputs": [
    {
     "data": {
      "text/plain": [
       "568    0\n",
       "620    0\n",
       "456    0\n",
       "197    1\n",
       "714    0\n",
       "      ..\n",
       "264    1\n",
       "706    1\n",
       "194    0\n",
       "179    1\n",
       "514    0\n",
       "Name: Outcome, Length: 154, dtype: int64"
      ]
     },
     "execution_count": 13,
     "metadata": {},
     "output_type": "execute_result"
    }
   ],
   "source": [
    "y_test"
   ]
  },
  {
   "cell_type": "code",
   "execution_count": 17,
   "id": "01ada4f7",
   "metadata": {},
   "outputs": [
    {
     "data": {
      "text/plain": [
       "array([[0.45753531, 0.54246469],\n",
       "       [0.79547761, 0.20452239],\n",
       "       [0.52421129, 0.47578871],\n",
       "       [0.88458223, 0.11541777],\n",
       "       [0.89093776, 0.10906224],\n",
       "       [0.93966936, 0.06033064],\n",
       "       [0.90327314, 0.09672686],\n",
       "       [0.69234856, 0.30765144],\n",
       "       [0.92445843, 0.07554157],\n",
       "       [0.61417309, 0.38582691],\n",
       "       [0.91398918, 0.08601082],\n",
       "       [0.7479789 , 0.2520211 ],\n",
       "       [0.14090173, 0.85909827],\n",
       "       [0.69049669, 0.30950331],\n",
       "       [0.8811013 , 0.1188987 ],\n",
       "       [0.31430464, 0.68569536],\n",
       "       [0.24920507, 0.75079493],\n",
       "       [0.94277305, 0.05722695],\n",
       "       [0.893553  , 0.106447  ],\n",
       "       [0.10352289, 0.89647711],\n",
       "       [0.66817756, 0.33182244],\n",
       "       [0.5234587 , 0.4765413 ],\n",
       "       [0.69087432, 0.30912568],\n",
       "       [0.79506281, 0.20493719],\n",
       "       [0.83485861, 0.16514139],\n",
       "       [0.36989393, 0.63010607],\n",
       "       [0.72960026, 0.27039974],\n",
       "       [0.98657224, 0.01342776],\n",
       "       [0.35572474, 0.64427526],\n",
       "       [0.20523687, 0.79476313],\n",
       "       [0.76746333, 0.23253667],\n",
       "       [0.94830245, 0.05169755],\n",
       "       [0.90655315, 0.09344685],\n",
       "       [0.86573186, 0.13426814],\n",
       "       [0.61301139, 0.38698861],\n",
       "       [0.85329567, 0.14670433],\n",
       "       [0.71957012, 0.28042988],\n",
       "       [0.71629029, 0.28370971],\n",
       "       [0.31816908, 0.68183092],\n",
       "       [0.92488377, 0.07511623],\n",
       "       [0.58655866, 0.41344134],\n",
       "       [0.71365441, 0.28634559],\n",
       "       [0.63214976, 0.36785024],\n",
       "       [0.67782259, 0.32217741],\n",
       "       [0.59344256, 0.40655744],\n",
       "       [0.90985017, 0.09014983],\n",
       "       [0.54723628, 0.45276372],\n",
       "       [0.87613743, 0.12386257],\n",
       "       [0.56149143, 0.43850857],\n",
       "       [0.73274552, 0.26725448],\n",
       "       [0.89010778, 0.10989222],\n",
       "       [0.1906268 , 0.8093732 ],\n",
       "       [0.75805056, 0.24194944],\n",
       "       [0.66012647, 0.33987353],\n",
       "       [0.63228201, 0.36771799],\n",
       "       [0.9242551 , 0.0757449 ],\n",
       "       [0.92826621, 0.07173379],\n",
       "       [0.71685746, 0.28314254],\n",
       "       [0.81633931, 0.18366069],\n",
       "       [0.93746175, 0.06253825],\n",
       "       [0.87602158, 0.12397842],\n",
       "       [0.89296826, 0.10703174],\n",
       "       [0.93392734, 0.06607266],\n",
       "       [0.55073551, 0.44926449],\n",
       "       [0.87902229, 0.12097771],\n",
       "       [0.60805973, 0.39194027],\n",
       "       [0.46784404, 0.53215596],\n",
       "       [0.70024153, 0.29975847],\n",
       "       [0.84505656, 0.15494344],\n",
       "       [0.5       , 0.5       ],\n",
       "       [0.33741003, 0.66258997],\n",
       "       [0.82565381, 0.17434619],\n",
       "       [0.51673938, 0.48326062],\n",
       "       [0.5       , 0.5       ],\n",
       "       [0.80132682, 0.19867318],\n",
       "       [0.86648032, 0.13351968],\n",
       "       [0.37487147, 0.62512853],\n",
       "       [0.29056412, 0.70943588],\n",
       "       [0.9204568 , 0.0795432 ],\n",
       "       [0.72456653, 0.27543347],\n",
       "       [0.92246514, 0.07753486],\n",
       "       [0.24388792, 0.75611208],\n",
       "       [0.94023295, 0.05976705],\n",
       "       [0.85940606, 0.14059394],\n",
       "       [0.68949098, 0.31050902],\n",
       "       [0.32730774, 0.67269226],\n",
       "       [0.52540249, 0.47459751],\n",
       "       [0.63177954, 0.36822046],\n",
       "       [0.09921934, 0.90078066],\n",
       "       [0.74167168, 0.25832832],\n",
       "       [0.80106124, 0.19893876],\n",
       "       [0.61435859, 0.38564141],\n",
       "       [0.93744757, 0.06255243],\n",
       "       [0.84693198, 0.15306802],\n",
       "       [0.90189855, 0.09810145],\n",
       "       [0.89872132, 0.10127868],\n",
       "       [0.25191506, 0.74808494],\n",
       "       [0.90341587, 0.09658413],\n",
       "       [0.84798286, 0.15201714],\n",
       "       [0.6463601 , 0.3536399 ],\n",
       "       [0.49436093, 0.50563907],\n",
       "       [0.68293287, 0.31706713],\n",
       "       [0.50793084, 0.49206916],\n",
       "       [0.66821567, 0.33178433],\n",
       "       [0.87887243, 0.12112757],\n",
       "       [0.53739631, 0.46260369],\n",
       "       [0.28690181, 0.71309819],\n",
       "       [0.28566665, 0.71433335],\n",
       "       [0.82602235, 0.17397765],\n",
       "       [0.33491922, 0.66508078],\n",
       "       [0.88156197, 0.11843803],\n",
       "       [0.48494235, 0.51505765],\n",
       "       [0.67884516, 0.32115484],\n",
       "       [0.81158459, 0.18841541],\n",
       "       [0.72814633, 0.27185367],\n",
       "       [0.86423584, 0.13576416],\n",
       "       [0.96037218, 0.03962782],\n",
       "       [0.57829004, 0.42170996],\n",
       "       [0.84058834, 0.15941166],\n",
       "       [0.21632273, 0.78367727],\n",
       "       [0.86989581, 0.13010419],\n",
       "       [0.91525329, 0.08474671],\n",
       "       [0.82421154, 0.17578846],\n",
       "       [0.41290098, 0.58709902],\n",
       "       [0.69497743, 0.30502257],\n",
       "       [0.60966424, 0.39033576],\n",
       "       [0.84093999, 0.15906001],\n",
       "       [0.76234269, 0.23765731],\n",
       "       [0.64338653, 0.35661347],\n",
       "       [0.88352533, 0.11647467],\n",
       "       [0.27577455, 0.72422545],\n",
       "       [0.64891822, 0.35108178],\n",
       "       [0.3578061 , 0.6421939 ],\n",
       "       [0.88680549, 0.11319451],\n",
       "       [0.89895309, 0.10104691],\n",
       "       [0.73449486, 0.26550514],\n",
       "       [0.58236949, 0.41763051],\n",
       "       [0.43832633, 0.56167367],\n",
       "       [0.33395642, 0.66604358],\n",
       "       [0.25682406, 0.74317594],\n",
       "       [0.76447237, 0.23552763],\n",
       "       [0.92168652, 0.07831348],\n",
       "       [0.70900578, 0.29099422],\n",
       "       [0.80716648, 0.19283352],\n",
       "       [0.25550622, 0.74449378],\n",
       "       [0.62301908, 0.37698092],\n",
       "       [0.8085446 , 0.1914554 ],\n",
       "       [0.2865506 , 0.7134494 ],\n",
       "       [0.39029186, 0.60970814],\n",
       "       [0.71268404, 0.28731596],\n",
       "       [0.86200591, 0.13799409],\n",
       "       [0.87172082, 0.12827918],\n",
       "       [0.51249577, 0.48750423],\n",
       "       [0.90771562, 0.09228438]])"
      ]
     },
     "execution_count": 17,
     "metadata": {},
     "output_type": "execute_result"
    }
   ],
   "source": [
    "y_pred_prob=svc_lin.predict_proba(X_test)\n",
    "y_pred_prob"
   ]
  },
  {
   "cell_type": "markdown",
   "id": "00f932a6",
   "metadata": {},
   "source": [
    "## Checking the performance"
   ]
  },
  {
   "cell_type": "code",
   "execution_count": 14,
   "id": "b5970175",
   "metadata": {},
   "outputs": [
    {
     "name": "stdout",
     "output_type": "stream",
     "text": [
      "The report:\n",
      "               precision    recall  f1-score   support\n",
      "\n",
      "           0       0.75      0.92      0.82        95\n",
      "           1       0.79      0.51      0.62        59\n",
      "\n",
      "    accuracy                           0.76       154\n",
      "   macro avg       0.77      0.71      0.72       154\n",
      "weighted avg       0.77      0.76      0.75       154\n",
      "\n",
      " ROC-AUC-Score: 0.7121320249776985\n"
     ]
    },
    {
     "data": {
      "image/png": "[encoded data removed]",
      "text/plain": [
       "<Figure size 432x288 with 2 Axes>"
      ]
     },
     "metadata": {
      "needs_background": "light"
     },
     "output_type": "display_data"
    }
   ],
   "source": [
    "from sklearn.metrics import confusion_matrix,classification_report,roc_curve,roc_auc_score\n",
    "\n",
    "cm=confusion_matrix(y_test,y_pred)\n",
    "report=classification_report(y_test,y_pred)\n",
    "score=roc_auc_score(y_test,y_pred)\n",
    "\n",
    "sns.heatmap(cm,annot=True)\n",
    "\n",
    "print('The report:\\n',report)\n",
    "print(' ROC-AUC-Score:',score)"
   ]
  },
  {
   "cell_type": "code",
   "execution_count": 20,
   "id": "3bb4f87d",
   "metadata": {},
   "outputs": [
    {
     "data": {
      "image/png": "[encoded data removed]",
      "text/plain": [
       "<Figure size 432x288 with 1 Axes>"
      ]
     },
     "metadata": {
      "needs_background": "light"
     },
     "output_type": "display_data"
    }
   ],
   "source": [
    "fpr,tpr,_=roc_curve(y_test,y_pred_prob[:,1])\n",
    "plt.plot(fpr,tpr)\n",
    "plt.plot([0,1],[0,1],c='g');"
   ]
  },
  {
   "cell_type": "markdown",
   "id": "5bcd956e",
   "metadata": {},
   "source": [
    "## Hyper parameter tuning"
   ]
  },
  {
   "cell_type": "markdown",
   "id": "6225637d",
   "metadata": {},
   "source": [
    "### Kernel tuning"
   ]
  },
  {
   "cell_type": "code",
   "execution_count": 21,
   "id": "1dc4b5bd",
   "metadata": {},
   "outputs": [],
   "source": [
    "def SVC_tuning_kernel(kernel):\n",
    "    model=SVC(kernel=kernel)\n",
    "    model=model.fit(X_train,y_train)\n",
    "    y_pred=model.predict(X_test)\n",
    "    cm=confusion_matrix(y_test,y_pred)\n",
    "    report=classification_report(y_test,y_pred)\n",
    "    score=roc_auc_score(y_test,y_pred)\n",
    "    print(' SVC with:', kernel)\n",
    "    print()\n",
    "    print( '    **************    ')\n",
    "    print()\n",
    "    print('The report:\\n', report)\n",
    "    print('ROC-AUC-Score:',score)\n",
    "    \n",
    "    sns.heatmap(cm,annot=True)"
   ]
  },
  {
   "cell_type": "code",
   "execution_count": 22,
   "id": "7f46a4ca",
   "metadata": {},
   "outputs": [
    {
     "name": "stdout",
     "output_type": "stream",
     "text": [
      " SVC with: linear\n",
      "\n",
      "    **************    \n",
      "\n",
      "The report:\n",
      "               precision    recall  f1-score   support\n",
      "\n",
      "           0       0.75      0.92      0.82        95\n",
      "           1       0.79      0.51      0.62        59\n",
      "\n",
      "    accuracy                           0.76       154\n",
      "   macro avg       0.77      0.71      0.72       154\n",
      "weighted avg       0.77      0.76      0.75       154\n",
      "\n",
      "ROC-AUC-Score: 0.7121320249776985\n"
     ]
    },
    {
     "data": {
      "image/png": "[encoded data removed]",
      "text/plain": [
       "<Figure size 432x288 with 2 Axes>"
      ]
     },
     "metadata": {
      "needs_background": "light"
     },
     "output_type": "display_data"
    }
   ],
   "source": [
    "# Calling the function\n",
    "\n",
    "SVC_tuning_kernel('linear')"
   ]
  },
  {
   "cell_type": "code",
   "execution_count": 23,
   "id": "bfa56428",
   "metadata": {},
   "outputs": [
    {
     "name": "stdout",
     "output_type": "stream",
     "text": [
      " SVC with: poly\n",
      "\n",
      "    **************    \n",
      "\n",
      "The report:\n",
      "               precision    recall  f1-score   support\n",
      "\n",
      "           0       0.70      0.93      0.80        95\n",
      "           1       0.75      0.36      0.48        59\n",
      "\n",
      "    accuracy                           0.71       154\n",
      "   macro avg       0.72      0.64      0.64       154\n",
      "weighted avg       0.72      0.71      0.68       154\n",
      "\n",
      "ROC-AUC-Score: 0.6411239964317573\n"
     ]
    },
    {
     "data": {
      "image/png": "[encoded data removed]",
      "text/plain": [
       "<Figure size 432x288 with 2 Axes>"
      ]
     },
     "metadata": {
      "needs_background": "light"
     },
     "output_type": "display_data"
    }
   ],
   "source": [
    "SVC_tuning_kernel('poly')"
   ]
  },
  {
   "cell_type": "code",
   "execution_count": 24,
   "id": "5c42fbfc",
   "metadata": {},
   "outputs": [
    {
     "name": "stdout",
     "output_type": "stream",
     "text": [
      " SVC with: rbf\n",
      "\n",
      "    **************    \n",
      "\n",
      "The report:\n",
      "               precision    recall  f1-score   support\n",
      "\n",
      "           0       0.70      0.92      0.79        95\n",
      "           1       0.73      0.37      0.49        59\n",
      "\n",
      "    accuracy                           0.71       154\n",
      "   macro avg       0.72      0.64      0.64       154\n",
      "weighted avg       0.71      0.71      0.68       154\n",
      "\n",
      "ROC-AUC-Score: 0.6443354148082068\n"
     ]
    },
    {
     "data": {
      "image/png": "[encoded data removed]",
      "text/plain": [
       "<Figure size 432x288 with 2 Axes>"
      ]
     },
     "metadata": {
      "needs_background": "light"
     },
     "output_type": "display_data"
    }
   ],
   "source": [
    "SVC_tuning_kernel('rbf')"
   ]
  },
  {
   "cell_type": "code",
   "execution_count": 25,
   "id": "f763763a",
   "metadata": {},
   "outputs": [
    {
     "name": "stdout",
     "output_type": "stream",
     "text": [
      " SVC with: sigmoid\n",
      "\n",
      "    **************    \n",
      "\n",
      "The report:\n",
      "               precision    recall  f1-score   support\n",
      "\n",
      "           0       0.58      0.76      0.66        95\n",
      "           1       0.23      0.12      0.16        59\n",
      "\n",
      "    accuracy                           0.51       154\n",
      "   macro avg       0.41      0.44      0.41       154\n",
      "weighted avg       0.45      0.51      0.47       154\n",
      "\n",
      "ROC-AUC-Score: 0.4382694023193577\n"
     ]
    },
    {
     "data": {
      "image/png": "[encoded data removed]",
      "text/plain": [
       "<Figure size 432x288 with 2 Axes>"
      ]
     },
     "metadata": {
      "needs_background": "light"
     },
     "output_type": "display_data"
    }
   ],
   "source": [
    "SVC_tuning_kernel('sigmoid')"
   ]
  },
  {
   "cell_type": "markdown",
   "id": "aafc7d0b",
   "metadata": {},
   "source": [
    "Remark:\n",
    "\n",
    "The best kernel after tuning is 'linear'"
   ]
  },
  {
   "cell_type": "markdown",
   "id": "f2e87d9d",
   "metadata": {},
   "source": [
    "Fix kernel='linear'"
   ]
  },
  {
   "cell_type": "markdown",
   "id": "7cfa3ba5",
   "metadata": {},
   "source": [
    "### Tuning the regularisation parameter C"
   ]
  },
  {
   "cell_type": "code",
   "execution_count": 26,
   "id": "21c91e59",
   "metadata": {},
   "outputs": [],
   "source": [
    "def SVC_tuning_C(C_list):\n",
    "    for c in C_list:\n",
    "        model=SVC(kernel='linear',C=c)\n",
    "        model=model.fit(X_train, y_train)\n",
    "        y_pred=model.predict(X_test)\n",
    "        score=roc_auc_score(y_test,y_pred)\n",
    "        print('C:',c,'==>','Score:',score)"
   ]
  },
  {
   "cell_type": "code",
   "execution_count": 27,
   "id": "80c7faa9",
   "metadata": {},
   "outputs": [
    {
     "name": "stdout",
     "output_type": "stream",
     "text": [
      "C: 0.1 ==> Score: 0.703657448706512\n",
      "C: 1 ==> Score: 0.7121320249776985\n",
      "C: 2 ==> Score: 0.7068688670829617\n",
      "C: 3 ==> Score: 0.7068688670829617\n",
      "C: 4 ==> Score: 0.7068688670829617\n",
      "C: 5 ==> Score: 0.7068688670829617\n",
      "C: 10 ==> Score: 0.7016057091882248\n",
      "C: 15 ==> Score: 0.7016057091882248\n",
      "C: 20 ==> Score: 0.7290811775200713\n",
      "C: 25 ==> Score: 0.7068688670829617\n",
      "C: 30 ==> Score: 0.7068688670829617\n"
     ]
    }
   ],
   "source": [
    "C_list=[0.1,1,2,3,4,5,10,15,20,25,30]\n",
    "SVC_tuning_C(C_list)"
   ]
  },
  {
   "cell_type": "code",
   "execution_count": 28,
   "id": "5ce78ed5",
   "metadata": {},
   "outputs": [
    {
     "name": "stdout",
     "output_type": "stream",
     "text": [
      "C: 17 ==> Score: 0.7016057091882248\n",
      "C: 18 ==> Score: 0.715343443354148\n",
      "C: 19 ==> Score: 0.7068688670829617\n",
      "C: 21 ==> Score: 0.7068688670829617\n",
      "C: 22 ==> Score: 0.7068688670829617\n"
     ]
    }
   ],
   "source": [
    "C_list=[17,18,19,21,22]\n",
    "SVC_tuning_C(C_list)"
   ]
  },
  {
   "cell_type": "markdown",
   "id": "479b86c1",
   "metadata": {},
   "source": [
    "The best value for C after tuning is 20\n",
    "\n",
    "So, the final SVC model is the one with\n",
    "\n",
    "kernel='linear' and 'C'=20"
   ]
  },
  {
   "cell_type": "markdown",
   "id": "3d24f713",
   "metadata": {},
   "source": [
    "## The final SVC model"
   ]
  },
  {
   "cell_type": "code",
   "execution_count": 31,
   "id": "f0d0d451",
   "metadata": {},
   "outputs": [
    {
     "name": "stdout",
     "output_type": "stream",
     "text": [
      "The report:\n",
      "               precision    recall  f1-score   support\n",
      "\n",
      "           0       0.76      0.92      0.83        95\n",
      "           1       0.80      0.54      0.65        59\n",
      "\n",
      "    accuracy                           0.77       154\n",
      "   macro avg       0.78      0.73      0.74       154\n",
      "weighted avg       0.78      0.77      0.76       154\n",
      "\n",
      "The score: 0.7290811775200713\n"
     ]
    },
    {
     "data": {
      "image/png": "[encoded data removed]",
      "text/plain": [
       "<Figure size 432x288 with 2 Axes>"
      ]
     },
     "metadata": {
      "needs_background": "light"
     },
     "output_type": "display_data"
    }
   ],
   "source": [
    "svc=SVC(kernel='linear',C=20,probability=True)\n",
    "svc=svc.fit(X_train, y_train)\n",
    "y_pred=svc.predict(X_test)\n",
    "\n",
    "y_pred_prob=svc.predict_proba(X_test)\n",
    "cm=confusion_matrix(y_test,y_pred)\n",
    "score=roc_auc_score(y_test,y_pred)\n",
    "report=classification_report(y_test,y_pred)\n",
    "fpr,tpr,_=roc_curve(y_test,y_pred_prob[:,1])\n",
    "\n",
    "sns.heatmap(cm,annot=True)\n",
    "print('The report:\\n', report)\n",
    "print('The score:',score)\n"
   ]
  },
  {
   "cell_type": "code",
   "execution_count": null,
   "id": "a5dcf925",
   "metadata": {},
   "outputs": [],
   "source": []
  }
 ],
 "metadata": {
  "kernelspec": {
   "display_name": "Python 3 (ipykernel)",
   "language": "python",
   "name": "python3"
  },
  "language_info": {
   "codemirror_mode": {
    "name": "ipython",
    "version": 3
   },
   "file_extension": ".py",
   "mimetype": "text/x-python",
   "name": "python",
   "nbconvert_exporter": "python",
   "pygments_lexer": "ipython3",
   "version": "3.9.12"
  }
 },
 "nbformat": 4,
 "nbformat_minor": 5
}
